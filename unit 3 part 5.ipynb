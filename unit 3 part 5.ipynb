{
 "cells": [
  {
   "cell_type": "code",
   "execution_count": 1,
   "metadata": {
    "collapsed": false
   },
   "outputs": [
    {
     "data": {
      "text/plain": [
       "'harpo'"
      ]
     },
     "execution_count": 1,
     "metadata": {},
     "output_type": "execute_result"
    }
   ],
   "source": [
    "marx_list = ['groucho','chico','harpo']\n",
    "marx_tuple = 'groucho','chico','harpo'\n",
    "marx_dict ={'groucho':'banjo','chico':'piano','harpo':'harp'}\n",
    "marx_list [2]"
   ]
  },
  {
   "cell_type": "code",
   "execution_count": 2,
   "metadata": {
    "collapsed": false
   },
   "outputs": [
    {
     "data": {
      "text/plain": [
       "'harpo'"
      ]
     },
     "execution_count": 2,
     "metadata": {},
     "output_type": "execute_result"
    }
   ],
   "source": [
    "marx_tuple [2]"
   ]
  },
  {
   "cell_type": "code",
   "execution_count": 3,
   "metadata": {
    "collapsed": false
   },
   "outputs": [
    {
     "data": {
      "text/plain": [
       "'harp'"
      ]
     },
     "execution_count": 3,
     "metadata": {},
     "output_type": "execute_result"
    }
   ],
   "source": [
    "marx_dict['harpo']"
   ]
  },
  {
   "cell_type": "code",
   "execution_count": 5,
   "metadata": {
    "collapsed": false
   },
   "outputs": [
    {
     "data": {
      "text/plain": [
       "(['groucho', 'chico', 'harpo'],\n",
       " ['chapman', 'cleese', 'gilliam', 'jones', 'palin'],\n",
       " ['moe', 'curly', 'larry'])"
      ]
     },
     "execution_count": 5,
     "metadata": {},
     "output_type": "execute_result"
    }
   ],
   "source": [
    "marxes = ['groucho','chico','harpo']\n",
    "pythons = ['chapman','cleese','gilliam','jones','palin']\n",
    "stooges = ['moe','curly','larry']\n",
    "tuple_of_lists = marxes , pythons , stooges\n",
    "tuple_of_lists"
   ]
  },
  {
   "cell_type": "code",
   "execution_count": 6,
   "metadata": {
    "collapsed": false
   },
   "outputs": [
    {
     "data": {
      "text/plain": [
       "[['groucho', 'chico', 'harpo'],\n",
       " ['chapman', 'cleese', 'gilliam', 'jones', 'palin'],\n",
       " ['moe', 'curly', 'larry']]"
      ]
     },
     "execution_count": 6,
     "metadata": {},
     "output_type": "execute_result"
    }
   ],
   "source": [
    "list_of_lists = [marxes , pythons , stooges]\n",
    "list_of_lists"
   ]
  },
  {
   "cell_type": "code",
   "execution_count": 7,
   "metadata": {
    "collapsed": false
   },
   "outputs": [
    {
     "data": {
      "text/plain": [
       "{'marxes': ['groucho', 'chico', 'harpo'],\n",
       " 'pythons': ['chapman', 'cleese', 'gilliam', 'jones', 'palin'],\n",
       " 'stooges': ['moe', 'curly', 'larry']}"
      ]
     },
     "execution_count": 7,
     "metadata": {},
     "output_type": "execute_result"
    }
   ],
   "source": [
    "dict_of_lists = {'marxes':marxes , 'pythons':pythons , 'stooges':stooges}\n",
    "dict_of_lists"
   ]
  },
  {
   "cell_type": "code",
   "execution_count": null,
   "metadata": {
    "collapsed": true
   },
   "outputs": [],
   "source": []
  }
 ],
 "metadata": {
  "kernelspec": {
   "display_name": "Python 3",
   "language": "python",
   "name": "python3"
  },
  "language_info": {
   "codemirror_mode": {
    "name": "ipython",
    "version": 3
   },
   "file_extension": ".py",
   "mimetype": "text/x-python",
   "name": "python",
   "nbconvert_exporter": "python",
   "pygments_lexer": "ipython3",
   "version": "3.4.3"
  }
 },
 "nbformat": 4,
 "nbformat_minor": 0
}
