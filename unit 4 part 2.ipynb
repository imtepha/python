{
 "cells": [
  {
   "cell_type": "code",
   "execution_count": 1,
   "metadata": {
    "collapsed": false
   },
   "outputs": [
    {
     "name": "stdout",
     "output_type": "stream",
     "text": [
      "String to capitalize [type q to quit]: test\n",
      "Test\n",
      "String to capitalize [type q to quit]: hey it works\n",
      "Hey it works\n",
      "String to capitalize [type q to quit]: q\n"
     ]
    }
   ],
   "source": [
    "while True:\n",
    "    stuff = input(\"String to capitalize [type q to quit]: \")\n",
    "    if stuff == \"q\":\n",
    "        break \n",
    "    print(stuff.capitalize())\n",
    "#using break to quit  "
   ]
  },
  {
   "cell_type": "code",
   "execution_count": 3,
   "metadata": {
    "collapsed": false
   },
   "outputs": [
    {
     "name": "stdout",
     "output_type": "stream",
     "text": [
      "integer, please [q to quit] : 4\n",
      "integer, please [q to quit] : 5\n",
      "5 squared is 25\n",
      "integer, please [q to quit] : 6\n",
      "integer, please [q to quit] : 7\n",
      "7 squared is 49\n",
      "integer, please [q to quit] : q\n"
     ]
    }
   ],
   "source": [
    "while True:\n",
    "    val = input(\"integer, please [q to quit] : \")\n",
    "    if val == 'q':#q=quit\n",
    "        break\n",
    "    num = int(val)\n",
    "    if num % 2 == 0:#even number\n",
    "        continue\n",
    "    print(num, \"squared is\", num*num\n",
    "         )"
   ]
  },
  {
   "cell_type": "code",
   "execution_count": 7,
   "metadata": {
    "collapsed": false
   },
   "outputs": [
    {
     "name": "stdout",
     "output_type": "stream",
     "text": [
      "no even number found\n"
     ]
    }
   ],
   "source": [
    "numbers = [1,3,5]\n",
    "position = 0\n",
    "while position < len(numbers):\n",
    "    number = numbers[position]\n",
    "    if number % 2 == 0:\n",
    "        print('found even number', number)\n",
    "        break\n",
    "    position += 1\n",
    "else: #break not called\n",
    "    print('no even number found')\n",
    "     \n"
   ]
  },
  {
   "cell_type": "code",
   "execution_count": 10,
   "metadata": {
    "collapsed": false
   },
   "outputs": [
    {
     "name": "stdout",
     "output_type": "stream",
     "text": [
      "flopsy\n",
      "mopsy\n",
      "cottonfail\n",
      "peter\n"
     ]
    }
   ],
   "source": [
    "rabbits = ['flopsy','mopsy','cottonfail','peter']\n",
    "current = 0\n",
    "while current < len(rabbits):\n",
    "    print (rabbits[current])\n",
    "    current += 1\n",
    "    \n"
   ]
  },
  {
   "cell_type": "code",
   "execution_count": 11,
   "metadata": {
    "collapsed": false
   },
   "outputs": [
    {
     "name": "stdout",
     "output_type": "stream",
     "text": [
      "flopsy\n",
      "mopsy\n",
      "cottonfail\n",
      "peter\n"
     ]
    }
   ],
   "source": [
    "for rabbit in rabbits :\n",
    "    print (rabbit)"
   ]
  },
  {
   "cell_type": "code",
   "execution_count": 12,
   "metadata": {
    "collapsed": false
   },
   "outputs": [
    {
     "name": "stdout",
     "output_type": "stream",
     "text": [
      "c\n",
      "a\n",
      "t\n"
     ]
    }
   ],
   "source": [
    "word = 'cat'\n",
    "for letter in word:\n",
    "    print (letter)"
   ]
  },
  {
   "cell_type": "code",
   "execution_count": 15,
   "metadata": {
    "collapsed": false
   },
   "outputs": [
    {
     "name": "stdout",
     "output_type": "stream",
     "text": [
      "person\n",
      "room\n",
      "weapon\n"
     ]
    }
   ],
   "source": [
    "accusation = {'room': 'ballroom', 'weapon':'knife' , 'person':'mustard'}\n",
    "for card in accusation.keys():\n",
    "    print (card)"
   ]
  },
  {
   "cell_type": "code",
   "execution_count": 16,
   "metadata": {
    "collapsed": false
   },
   "outputs": [
    {
     "name": "stdout",
     "output_type": "stream",
     "text": [
      "mustard\n",
      "ballroom\n",
      "knife\n"
     ]
    }
   ],
   "source": [
    "for value in accusation.values():\n",
    "    print(value)"
   ]
  },
  {
   "cell_type": "code",
   "execution_count": 18,
   "metadata": {
    "collapsed": false
   },
   "outputs": [
    {
     "name": "stdout",
     "output_type": "stream",
     "text": [
      "('person', 'mustard')\n",
      "('room', 'ballroom')\n",
      "('weapon', 'knife')\n"
     ]
    }
   ],
   "source": [
    "for item in accusation.items():\n",
    "    print(item)"
   ]
  },
  {
   "cell_type": "code",
   "execution_count": 20,
   "metadata": {
    "collapsed": false
   },
   "outputs": [
    {
     "name": "stdout",
     "output_type": "stream",
     "text": [
      "Card person has the contents mustard\n",
      "Card room has the contents ballroom\n",
      "Card weapon has the contents knife\n"
     ]
    }
   ],
   "source": [
    "for card, contents in accusation.items():\n",
    "    print ('Card', card , 'has the contents',contents)"
   ]
  },
  {
   "cell_type": "code",
   "execution_count": 21,
   "metadata": {
    "collapsed": false
   },
   "outputs": [
    {
     "name": "stdout",
     "output_type": "stream",
     "text": [
      "this is not much of cheese shop , is it ?\n"
     ]
    }
   ],
   "source": [
    "cheeses = []\n",
    "for cheese in cheeses:\n",
    "    print ('this shop has some lovely', cheeses)\n",
    "    break\n",
    "else:\n",
    "    print('this is not much of cheese shop , is it ?')"
   ]
  },
  {
   "cell_type": "code",
   "execution_count": null,
   "metadata": {
    "collapsed": true
   },
   "outputs": [],
   "source": [
    "cheeses = []\n",
    "found_one = False\n",
    "for cheese in cheeses:\n",
    "    found_one = True\n",
    "    print ('this shop has some lovely', cheeses)\n",
    "    break\n",
    "else:\n",
    "    print('this is not much of cheese shop , is it ?')"
   ]
  }
 ],
 "metadata": {
  "kernelspec": {
   "display_name": "Python 3",
   "language": "python",
   "name": "python3"
  },
  "language_info": {
   "codemirror_mode": {
    "name": "ipython",
    "version": 3
   },
   "file_extension": ".py",
   "mimetype": "text/x-python",
   "name": "python",
   "nbconvert_exporter": "python",
   "pygments_lexer": "ipython3",
   "version": "3.4.3"
  }
 },
 "nbformat": 4,
 "nbformat_minor": 0
}
